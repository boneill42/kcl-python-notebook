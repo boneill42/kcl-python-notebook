{
 "cells": [
  {
   "cell_type": "code",
   "execution_count": 2,
   "metadata": {
    "collapsed": false
   },
   "outputs": [
    {
     "name": "stdout",
     "output_type": "stream",
     "text": [
      "running download_jars\n",
      "Skipping download of amazon_kclpy/jars/amazon-kinesis-client-1.2.0.jar\n",
      "Skipping download of amazon_kclpy/jars/jackson-core-2.1.1.jar\n",
      "Skipping download of amazon_kclpy/jars/httpclient-4.2.jar\n",
      "Skipping download of amazon_kclpy/jars/httpcore-4.2.jar\n",
      "Skipping download of amazon_kclpy/jars/jackson-annotations-2.1.1.jar\n",
      "Skipping download of amazon_kclpy/jars/commons-codec-1.3.jar\n",
      "Skipping download of amazon_kclpy/jars/joda-time-2.4.jar\n",
      "Skipping download of amazon_kclpy/jars/aws-java-sdk-1.7.13.jar\n",
      "Skipping download of amazon_kclpy/jars/jackson-databind-2.1.1.jar\n",
      "Skipping download of amazon_kclpy/jars/commons-logging-1.1.1.jar\n",
      "\n",
      "Now you should run:\n",
      "\n",
      "    python setup.py install\n",
      "\n",
      "Which will finish the installation.\n",
      "\n"
     ]
    }
   ],
   "source": [
    "run setup.py download_jars"
   ]
  },
  {
   "cell_type": "code",
   "execution_count": 3,
   "metadata": {
    "collapsed": false
   },
   "outputs": [
    {
     "name": "stdout",
     "output_type": "stream",
     "text": [
      "running install\n",
      "Skipping download of amazon_kclpy/jars/amazon-kinesis-client-1.2.0.jar\n",
      "Skipping download of amazon_kclpy/jars/jackson-core-2.1.1.jar\n",
      "Skipping download of amazon_kclpy/jars/httpclient-4.2.jar\n",
      "Skipping download of amazon_kclpy/jars/httpcore-4.2.jar\n",
      "Skipping download of amazon_kclpy/jars/jackson-annotations-2.1.1.jar\n",
      "Skipping download of amazon_kclpy/jars/commons-codec-1.3.jar\n",
      "Skipping download of amazon_kclpy/jars/joda-time-2.4.jar\n",
      "Skipping download of amazon_kclpy/jars/aws-java-sdk-1.7.13.jar\n",
      "Skipping download of amazon_kclpy/jars/jackson-databind-2.1.1.jar\n",
      "Skipping download of amazon_kclpy/jars/commons-logging-1.1.1.jar\n",
      "running bdist_egg\n",
      "running egg_info\n",
      "writing requirements to amazon_kclpy.egg-info/requires.txt\n",
      "writing amazon_kclpy.egg-info/PKG-INFO\n",
      "writing top-level names to amazon_kclpy.egg-info/top_level.txt\n",
      "writing dependency_links to amazon_kclpy.egg-info/dependency_links.txt\n",
      "reading manifest file 'amazon_kclpy.egg-info/SOURCES.txt'\n",
      "reading manifest template 'MANIFEST.in'\n",
      "writing manifest file 'amazon_kclpy.egg-info/SOURCES.txt'\n",
      "installing library code to build/bdist.macosx-10.10-x86_64/egg\n",
      "running install_lib\n",
      "running build_py\n",
      "creating build/bdist.macosx-10.10-x86_64/egg\n",
      "creating build/bdist.macosx-10.10-x86_64/egg/amazon_kclpy\n",
      "copying build/lib/amazon_kclpy/__init__.py -> build/bdist.macosx-10.10-x86_64/egg/amazon_kclpy\n",
      "creating build/bdist.macosx-10.10-x86_64/egg/amazon_kclpy/jars\n",
      "copying build/lib/amazon_kclpy/jars/__init__.py -> build/bdist.macosx-10.10-x86_64/egg/amazon_kclpy/jars\n",
      "copying build/lib/amazon_kclpy/jars/amazon-kinesis-client-1.2.0.jar -> build/bdist.macosx-10.10-x86_64/egg/amazon_kclpy/jars\n",
      "copying build/lib/amazon_kclpy/jars/aws-java-sdk-1.7.13.jar -> build/bdist.macosx-10.10-x86_64/egg/amazon_kclpy/jars\n",
      "copying build/lib/amazon_kclpy/jars/commons-codec-1.3.jar -> build/bdist.macosx-10.10-x86_64/egg/amazon_kclpy/jars\n",
      "copying build/lib/amazon_kclpy/jars/commons-logging-1.1.1.jar -> build/bdist.macosx-10.10-x86_64/egg/amazon_kclpy/jars\n",
      "copying build/lib/amazon_kclpy/jars/httpclient-4.2.jar -> build/bdist.macosx-10.10-x86_64/egg/amazon_kclpy/jars\n",
      "copying build/lib/amazon_kclpy/jars/httpcore-4.2.jar -> build/bdist.macosx-10.10-x86_64/egg/amazon_kclpy/jars\n",
      "copying build/lib/amazon_kclpy/jars/jackson-annotations-2.1.1.jar -> build/bdist.macosx-10.10-x86_64/egg/amazon_kclpy/jars\n",
      "copying build/lib/amazon_kclpy/jars/jackson-core-2.1.1.jar -> build/bdist.macosx-10.10-x86_64/egg/amazon_kclpy/jars\n",
      "copying build/lib/amazon_kclpy/jars/jackson-databind-2.1.1.jar -> build/bdist.macosx-10.10-x86_64/egg/amazon_kclpy/jars\n",
      "copying build/lib/amazon_kclpy/jars/joda-time-2.4.jar -> build/bdist.macosx-10.10-x86_64/egg/amazon_kclpy/jars\n",
      "copying build/lib/amazon_kclpy/kcl.py -> build/bdist.macosx-10.10-x86_64/egg/amazon_kclpy\n",
      "creating build/bdist.macosx-10.10-x86_64/egg/samples\n",
      "copying build/lib/samples/__init__.py -> build/bdist.macosx-10.10-x86_64/egg/samples\n",
      "copying build/lib/samples/amazon_kclpy_helper.py -> build/bdist.macosx-10.10-x86_64/egg/samples\n",
      "copying build/lib/samples/sample.properties -> build/bdist.macosx-10.10-x86_64/egg/samples\n",
      "copying build/lib/samples/sample_kclpy_app.py -> build/bdist.macosx-10.10-x86_64/egg/samples\n",
      "copying build/lib/samples/sample_kinesis_wordputter.py -> build/bdist.macosx-10.10-x86_64/egg/samples\n",
      "byte-compiling build/bdist.macosx-10.10-x86_64/egg/amazon_kclpy/__init__.py to __init__.pyc\n",
      "byte-compiling build/bdist.macosx-10.10-x86_64/egg/amazon_kclpy/jars/__init__.py to __init__.pyc\n",
      "byte-compiling build/bdist.macosx-10.10-x86_64/egg/amazon_kclpy/kcl.py to kcl.pyc\n",
      "byte-compiling build/bdist.macosx-10.10-x86_64/egg/samples/__init__.py to __init__.pyc\n",
      "byte-compiling build/bdist.macosx-10.10-x86_64/egg/samples/amazon_kclpy_helper.py to amazon_kclpy_helper.pyc\n",
      "byte-compiling build/bdist.macosx-10.10-x86_64/egg/samples/sample_kclpy_app.py to sample_kclpy_app.pyc\n",
      "byte-compiling build/bdist.macosx-10.10-x86_64/egg/samples/sample_kinesis_wordputter.py to sample_kinesis_wordputter.pyc\n",
      "creating build/bdist.macosx-10.10-x86_64/egg/EGG-INFO\n",
      "installing scripts to build/bdist.macosx-10.10-x86_64/egg/EGG-INFO/scripts\n",
      "running install_scripts\n",
      "running build_scripts\n",
      "creating build/bdist.macosx-10.10-x86_64/egg/EGG-INFO/scripts\n",
      "copying build/scripts-2.7/__init__.py -> build/bdist.macosx-10.10-x86_64/egg/EGG-INFO/scripts\n",
      "copying build/scripts-2.7/amazon_kclpy_helper.py -> build/bdist.macosx-10.10-x86_64/egg/EGG-INFO/scripts\n",
      "copying build/scripts-2.7/sample_kclpy_app.py -> build/bdist.macosx-10.10-x86_64/egg/EGG-INFO/scripts\n",
      "copying build/scripts-2.7/sample_kinesis_wordputter.py -> build/bdist.macosx-10.10-x86_64/egg/EGG-INFO/scripts\n",
      "changing mode of build/bdist.macosx-10.10-x86_64/egg/EGG-INFO/scripts/__init__.py to 755\n",
      "changing mode of build/bdist.macosx-10.10-x86_64/egg/EGG-INFO/scripts/amazon_kclpy_helper.py to 755\n",
      "changing mode of build/bdist.macosx-10.10-x86_64/egg/EGG-INFO/scripts/sample_kclpy_app.py to 755\n",
      "changing mode of build/bdist.macosx-10.10-x86_64/egg/EGG-INFO/scripts/sample_kinesis_wordputter.py to 755\n",
      "copying amazon_kclpy.egg-info/PKG-INFO -> build/bdist.macosx-10.10-x86_64/egg/EGG-INFO\n",
      "copying amazon_kclpy.egg-info/SOURCES.txt -> build/bdist.macosx-10.10-x86_64/egg/EGG-INFO\n",
      "copying amazon_kclpy.egg-info/dependency_links.txt -> build/bdist.macosx-10.10-x86_64/egg/EGG-INFO\n",
      "copying amazon_kclpy.egg-info/not-zip-safe -> build/bdist.macosx-10.10-x86_64/egg/EGG-INFO\n",
      "copying amazon_kclpy.egg-info/requires.txt -> build/bdist.macosx-10.10-x86_64/egg/EGG-INFO\n",
      "copying amazon_kclpy.egg-info/top_level.txt -> build/bdist.macosx-10.10-x86_64/egg/EGG-INFO\n",
      "creating 'dist/amazon_kclpy-1.1.0-py2.7.egg' and adding 'build/bdist.macosx-10.10-x86_64/egg' to it\n",
      "removing 'build/bdist.macosx-10.10-x86_64/egg' (and everything under it)\n",
      "Processing amazon_kclpy-1.1.0-py2.7.egg\n",
      "creating /Users/brianoneill/venv/kcl/lib/python2.7/site-packages/amazon_kclpy-1.1.0-py2.7.egg\n",
      "Extracting amazon_kclpy-1.1.0-py2.7.egg to /Users/brianoneill/venv/kcl/lib/python2.7/site-packages\n",
      "Adding amazon-kclpy 1.1.0 to easy-install.pth file\n",
      "Installing __init__.py script to /Users/brianoneill/venv/kcl/bin\n",
      "Installing amazon_kclpy_helper.py script to /Users/brianoneill/venv/kcl/bin\n",
      "Installing sample_kclpy_app.py script to /Users/brianoneill/venv/kcl/bin\n",
      "Installing sample_kinesis_wordputter.py script to /Users/brianoneill/venv/kcl/bin\n",
      "\n",
      "Installed /Users/brianoneill/venv/kcl/lib/python2.7/site-packages/amazon_kclpy-1.1.0-py2.7.egg\n",
      "Processing dependencies for amazon-kclpy==1.1.0\n",
      "Searching for argparse\n",
      "Reading https://pypi.python.org/simple/argparse/\n",
      "Best match: argparse 1.4.0\n",
      "Downloading https://pypi.python.org/packages/source/a/argparse/argparse-1.4.0.tar.gz#md5=08062d2ceb6596fcbc5a7e725b53746f\n",
      "Processing argparse-1.4.0.tar.gz\n",
      "Writing /var/folders/2f/wqb5702967s58rtsgb5kzd940000gp/T/easy_install-RJDnlj/argparse-1.4.0/setup.cfg\n",
      "Running argparse-1.4.0/setup.py -q bdist_egg --dist-dir /var/folders/2f/wqb5702967s58rtsgb5kzd940000gp/T/easy_install-RJDnlj/argparse-1.4.0/egg-dist-tmp-J2GBRq\n"
     ]
    },
    {
     "name": "stderr",
     "output_type": "stream",
     "text": [
      "/Users/brianoneill/venv/kcl/lib/python2.7/site-packages/setuptools/dist.py:19: UserWarning: Module argparse was already imported from /usr/local/Cellar/python/2.7.10_2/Frameworks/Python.framework/Versions/2.7/lib/python2.7/argparse.pyc, but /private/var/folders/2f/wqb5702967s58rtsgb5kzd940000gp/T/easy_install-RJDnlj/argparse-1.4.0 is being added to sys.path\n",
      "  import pkg_resources\n",
      "warning: no previously-included files matching '*.pyc' found anywhere in distribution\n",
      "warning: no previously-included files matching '*.pyo' found anywhere in distribution\n",
      "warning: no previously-included files matching '*.orig' found anywhere in distribution\n",
      "warning: no previously-included files matching '*.rej' found anywhere in distribution\n",
      "no previously-included directories found matching 'doc/_build'\n",
      "no previously-included directories found matching 'env24'\n",
      "no previously-included directories found matching 'env25'\n",
      "no previously-included directories found matching 'env26'\n",
      "no previously-included directories found matching 'env27'\n",
      "zip_safe flag not set; analyzing archive contents...\n"
     ]
    },
    {
     "name": "stdout",
     "output_type": "stream",
     "text": [
      "Copying argparse-1.1-py2.7.egg to /Users/brianoneill/venv/kcl/lib/python2.7/site-packages\n",
      "Adding argparse 1.1 to easy-install.pth file\n",
      "\n",
      "Installed /Users/brianoneill/venv/kcl/lib/python2.7/site-packages/argparse-1.1-py2.7.egg\n",
      "Searching for boto\n",
      "Reading https://pypi.python.org/simple/boto/\n",
      "Best match: boto 2.38.0\n",
      "Downloading https://pypi.python.org/packages/source/b/boto/boto-2.38.0.tar.gz#md5=28112f29e9c7b10e12b6917a325e70ce\n",
      "Processing boto-2.38.0.tar.gz\n",
      "Writing /var/folders/2f/wqb5702967s58rtsgb5kzd940000gp/T/easy_install-fY11wH/boto-2.38.0/setup.cfg\n",
      "Running boto-2.38.0/setup.py -q bdist_egg --dist-dir /var/folders/2f/wqb5702967s58rtsgb5kzd940000gp/T/easy_install-fY11wH/boto-2.38.0/egg-dist-tmp-cQOahi\n"
     ]
    },
    {
     "name": "stderr",
     "output_type": "stream",
     "text": [
      "warning: no files found matching 'boto/mturk/test/*.doctest'\n",
      "warning: no files found matching 'boto/mturk/test/.gitignore'\n",
      "zip_safe flag not set; analyzing archive contents...\n",
      "boto.__init__: module references __file__\n",
      "boto.connection: module references __file__\n",
      "boto.vendored.six: module references __path__\n"
     ]
    },
    {
     "name": "stdout",
     "output_type": "stream",
     "text": [
      "creating /Users/brianoneill/venv/kcl/lib/python2.7/site-packages/boto-2.38.0-py2.7.egg\n",
      "Extracting boto-2.38.0-py2.7.egg to /Users/brianoneill/venv/kcl/lib/python2.7/site-packages\n",
      "Adding boto 2.38.0 to easy-install.pth file\n",
      "Installing asadmin script to /Users/brianoneill/venv/kcl/bin\n",
      "Installing bundle_image script to /Users/brianoneill/venv/kcl/bin\n",
      "Installing cfadmin script to /Users/brianoneill/venv/kcl/bin\n",
      "Installing cq script to /Users/brianoneill/venv/kcl/bin\n",
      "Installing cwutil script to /Users/brianoneill/venv/kcl/bin\n",
      "Installing dynamodb_dump script to /Users/brianoneill/venv/kcl/bin\n",
      "Installing dynamodb_load script to /Users/brianoneill/venv/kcl/bin\n",
      "Installing elbadmin script to /Users/brianoneill/venv/kcl/bin\n",
      "Installing fetch_file script to /Users/brianoneill/venv/kcl/bin\n",
      "Installing glacier script to /Users/brianoneill/venv/kcl/bin\n",
      "Installing instance_events script to /Users/brianoneill/venv/kcl/bin\n",
      "Installing kill_instance script to /Users/brianoneill/venv/kcl/bin\n",
      "Installing launch_instance script to /Users/brianoneill/venv/kcl/bin\n",
      "Installing list_instances script to /Users/brianoneill/venv/kcl/bin\n",
      "Installing lss3 script to /Users/brianoneill/venv/kcl/bin\n",
      "Installing mturk script to /Users/brianoneill/venv/kcl/bin\n",
      "Installing pyami_sendmail script to /Users/brianoneill/venv/kcl/bin\n",
      "Installing route53 script to /Users/brianoneill/venv/kcl/bin\n",
      "Installing s3put script to /Users/brianoneill/venv/kcl/bin\n",
      "Installing sdbadmin script to /Users/brianoneill/venv/kcl/bin\n",
      "Installing taskadmin script to /Users/brianoneill/venv/kcl/bin\n",
      "\n",
      "Installed /Users/brianoneill/venv/kcl/lib/python2.7/site-packages/boto-2.38.0-py2.7.egg\n",
      "Finished processing dependencies for amazon-kclpy==1.1.0\n"
     ]
    }
   ],
   "source": [
    "run setup.py install"
   ]
  },
  {
   "cell_type": "code",
   "execution_count": 3,
   "metadata": {
    "collapsed": false
   },
   "outputs": [
    {
     "name": "stdout",
     "output_type": "stream",
     "text": [
      "Connecting to stream: words in us-east-1\n",
      "Put word: cat into stream: words\n",
      "Put word: dog into stream: words\n",
      "Put word: bird into stream: words\n",
      "Put word: lobster into stream: words\n"
     ]
    }
   ],
   "source": [
    "run samples/sample_kinesis_wordputter.py --stream words -w cat -w dog -w bird -w lobster"
   ]
  },
  {
   "cell_type": "code",
   "execution_count": 1,
   "metadata": {
    "collapsed": false
   },
   "outputs": [
    {
     "name": "stdout",
     "output_type": "stream",
     "text": [
      "/Library/Java/JavaVirtualMachines/jdk1.8.0_60.jdk/Contents/Home/bin/java -cp /Users/brianoneill/git/amazon-kinesis-client-python/amazon_kclpy/jars/amazon-kinesis-client-1.2.0.jar:/Users/brianoneill/git/amazon-kinesis-client-python/amazon_kclpy/jars/aws-java-sdk-1.7.13.jar:/Users/brianoneill/git/amazon-kinesis-client-python/amazon_kclpy/jars/commons-codec-1.3.jar:/Users/brianoneill/git/amazon-kinesis-client-python/amazon_kclpy/jars/commons-logging-1.1.1.jar:/Users/brianoneill/git/amazon-kinesis-client-python/amazon_kclpy/jars/httpclient-4.2.jar:/Users/brianoneill/git/amazon-kinesis-client-python/amazon_kclpy/jars/httpcore-4.2.jar:/Users/brianoneill/git/amazon-kinesis-client-python/amazon_kclpy/jars/jackson-annotations-2.1.1.jar:/Users/brianoneill/git/amazon-kinesis-client-python/amazon_kclpy/jars/jackson-core-2.1.1.jar:/Users/brianoneill/git/amazon-kinesis-client-python/amazon_kclpy/jars/jackson-databind-2.1.1.jar:/Users/brianoneill/git/amazon-kinesis-client-python/amazon_kclpy/jars/joda-time-2.4.jar:/Users/brianoneill/git/amazon-kinesis-client-python/samples com.amazonaws.services.kinesis.multilang.MultiLangDaemon sample.properties\n"
     ]
    }
   ],
   "source": [
    "run samples/amazon_kclpy_helper.py --print_command --java /Library/Java/JavaVirtualMachines/jdk1.8.0_60.jdk/Contents/Home/bin/java --properties samples/sample.properties"
   ]
  },
  {
   "cell_type": "code",
   "execution_count": null,
   "metadata": {
    "collapsed": true
   },
   "outputs": [],
   "source": []
  }
 ],
 "metadata": {
  "kernelspec": {
   "display_name": "Python 2",
   "language": "python",
   "name": "python2"
  },
  "language_info": {
   "codemirror_mode": {
    "name": "ipython",
    "version": 2
   },
   "file_extension": ".py",
   "mimetype": "text/x-python",
   "name": "python",
   "nbconvert_exporter": "python",
   "pygments_lexer": "ipython2",
   "version": "2.7.10"
  }
 },
 "nbformat": 4,
 "nbformat_minor": 0
}
